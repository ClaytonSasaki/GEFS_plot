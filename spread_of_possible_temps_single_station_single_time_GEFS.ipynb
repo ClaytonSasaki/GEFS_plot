{
 "cells": [
  {
   "cell_type": "markdown",
   "id": "aceb40a0-b217-4740-87a0-1c9afd8de47f",
   "metadata": {},
   "source": [
    "# Table of Temperatures from GEFS members\n",
    "This notebook using a GEFS members to look at the range of possible temperatures at a chosen station for a given time. It then creates a risk for temperatures in certain ranges\n",
    "\n",
    "### Steps:\n",
    "1. Import necessary libraries\n",
    "2. Define constants and helper functions\n",
    "3. Calculate Percentages\n",
    "4. Create table"
   ]
  },
  {
   "cell_type": "code",
   "execution_count": 5,
   "id": "9e74635b-eeb5-4c4f-a4f3-57e7ae682be2",
   "metadata": {},
   "outputs": [],
   "source": [
    "# ---------------------------- Imports ----------------------------\n",
    "import cartopy.crs as ccrs\n",
    "import cartopy.feature as cfeature\n",
    "import matplotlib.colors as mcolors\n",
    "import matplotlib.pyplot as plt\n",
    "import numpy as np\n",
    "import pandas as pd\n",
    "\n",
    "from herbie import Herbie"
   ]
  },
  {
   "cell_type": "code",
   "execution_count": 6,
   "id": "f5231529-b512-41f3-9066-d19c2d25604b",
   "metadata": {},
   "outputs": [],
   "source": [
    "# ---------------------------- Config -----------------------------\n",
    "\n",
    "LAT_STN = 40.7128\n",
    "LON_STN = -74.0060\n",
    "RUN_TIME = \"2024-04-07 00:00\"\n",
    "FORECAST_HOUR = 120\n",
    "MEMBERS = [\"p%.2d\" %(i) for i in range(1, 31)] + [\"c00\"]  # GEFS ensemble members\n",
    "\n",
    "# Temperature ranges and labels\n",
    "TEMP_RANGES = [\n",
    "    (-np.inf, -15), (-15, -5), (-5, 32), (32, 50),\n",
    "    (50, 70), (70, 95), (95, 105), (105, np.inf)\n",
    "]\n",
    "RANGE_LABELS = [\n",
    "    \"Extreme Cold Warning (< -15°F)\", \"Cold Weather Advisory (-15°F to -5°F)\",\n",
    "    \"Cold to Freezing (-5°F to 32°F)\", \"Freezing to Cool (32°F to 50°F)\",\n",
    "    \"Cool to Warm (50°F to 70°F)\", \"Warm to Hot (70°F to 95°F)\",\n",
    "    \"Heat Advisory (95°F to 105°F)\", \"Excessive Heat Warning (> 105°F)\"\n",
    "]"
   ]
  },
  {
   "cell_type": "code",
   "execution_count": 7,
   "id": "c24f1ed8-1051-4e2c-a786-d47f0e8f2336",
   "metadata": {},
   "outputs": [
    {
     "name": "stdout",
     "output_type": "stream",
     "text": [
      "member:  p01\n"
     ]
    },
    {
     "name": "stderr",
     "output_type": "stream",
     "text": [
      "/opt/anaconda3/envs/GEFS_plot/lib/python3.10/site-packages/cfgrib/xarray_plugin.py:131: FutureWarning: In a future version of xarray decode_timedelta will default to False rather than None. To silence this warning, set decode_timedelta to True, False, or a 'CFTimedeltaCoder' instance.\n",
      "  vars, attrs, coord_names = xr.conventions.decode_cf_variables(\n"
     ]
    },
    {
     "name": "stdout",
     "output_type": "stream",
     "text": [
      "member:  p02\n"
     ]
    },
    {
     "name": "stderr",
     "output_type": "stream",
     "text": [
      "/opt/anaconda3/envs/GEFS_plot/lib/python3.10/site-packages/cfgrib/xarray_plugin.py:131: FutureWarning: In a future version of xarray decode_timedelta will default to False rather than None. To silence this warning, set decode_timedelta to True, False, or a 'CFTimedeltaCoder' instance.\n",
      "  vars, attrs, coord_names = xr.conventions.decode_cf_variables(\n"
     ]
    },
    {
     "name": "stdout",
     "output_type": "stream",
     "text": [
      "member:  p03\n"
     ]
    },
    {
     "name": "stderr",
     "output_type": "stream",
     "text": [
      "/opt/anaconda3/envs/GEFS_plot/lib/python3.10/site-packages/cfgrib/xarray_plugin.py:131: FutureWarning: In a future version of xarray decode_timedelta will default to False rather than None. To silence this warning, set decode_timedelta to True, False, or a 'CFTimedeltaCoder' instance.\n",
      "  vars, attrs, coord_names = xr.conventions.decode_cf_variables(\n"
     ]
    },
    {
     "name": "stdout",
     "output_type": "stream",
     "text": [
      "member:  p04\n"
     ]
    },
    {
     "name": "stderr",
     "output_type": "stream",
     "text": [
      "/opt/anaconda3/envs/GEFS_plot/lib/python3.10/site-packages/cfgrib/xarray_plugin.py:131: FutureWarning: In a future version of xarray decode_timedelta will default to False rather than None. To silence this warning, set decode_timedelta to True, False, or a 'CFTimedeltaCoder' instance.\n",
      "  vars, attrs, coord_names = xr.conventions.decode_cf_variables(\n"
     ]
    },
    {
     "name": "stdout",
     "output_type": "stream",
     "text": [
      "member:  p05\n"
     ]
    },
    {
     "name": "stderr",
     "output_type": "stream",
     "text": [
      "/opt/anaconda3/envs/GEFS_plot/lib/python3.10/site-packages/cfgrib/xarray_plugin.py:131: FutureWarning: In a future version of xarray decode_timedelta will default to False rather than None. To silence this warning, set decode_timedelta to True, False, or a 'CFTimedeltaCoder' instance.\n",
      "  vars, attrs, coord_names = xr.conventions.decode_cf_variables(\n"
     ]
    },
    {
     "name": "stdout",
     "output_type": "stream",
     "text": [
      "member:  p06\n"
     ]
    },
    {
     "name": "stderr",
     "output_type": "stream",
     "text": [
      "/opt/anaconda3/envs/GEFS_plot/lib/python3.10/site-packages/cfgrib/xarray_plugin.py:131: FutureWarning: In a future version of xarray decode_timedelta will default to False rather than None. To silence this warning, set decode_timedelta to True, False, or a 'CFTimedeltaCoder' instance.\n",
      "  vars, attrs, coord_names = xr.conventions.decode_cf_variables(\n"
     ]
    },
    {
     "name": "stdout",
     "output_type": "stream",
     "text": [
      "member:  p07\n"
     ]
    },
    {
     "name": "stderr",
     "output_type": "stream",
     "text": [
      "/opt/anaconda3/envs/GEFS_plot/lib/python3.10/site-packages/cfgrib/xarray_plugin.py:131: FutureWarning: In a future version of xarray decode_timedelta will default to False rather than None. To silence this warning, set decode_timedelta to True, False, or a 'CFTimedeltaCoder' instance.\n",
      "  vars, attrs, coord_names = xr.conventions.decode_cf_variables(\n"
     ]
    },
    {
     "name": "stdout",
     "output_type": "stream",
     "text": [
      "member:  p08\n"
     ]
    },
    {
     "name": "stderr",
     "output_type": "stream",
     "text": [
      "/opt/anaconda3/envs/GEFS_plot/lib/python3.10/site-packages/cfgrib/xarray_plugin.py:131: FutureWarning: In a future version of xarray decode_timedelta will default to False rather than None. To silence this warning, set decode_timedelta to True, False, or a 'CFTimedeltaCoder' instance.\n",
      "  vars, attrs, coord_names = xr.conventions.decode_cf_variables(\n"
     ]
    },
    {
     "name": "stdout",
     "output_type": "stream",
     "text": [
      "member:  p09\n"
     ]
    },
    {
     "name": "stderr",
     "output_type": "stream",
     "text": [
      "/opt/anaconda3/envs/GEFS_plot/lib/python3.10/site-packages/cfgrib/xarray_plugin.py:131: FutureWarning: In a future version of xarray decode_timedelta will default to False rather than None. To silence this warning, set decode_timedelta to True, False, or a 'CFTimedeltaCoder' instance.\n",
      "  vars, attrs, coord_names = xr.conventions.decode_cf_variables(\n"
     ]
    },
    {
     "name": "stdout",
     "output_type": "stream",
     "text": [
      "member:  p10\n"
     ]
    },
    {
     "name": "stderr",
     "output_type": "stream",
     "text": [
      "/opt/anaconda3/envs/GEFS_plot/lib/python3.10/site-packages/cfgrib/xarray_plugin.py:131: FutureWarning: In a future version of xarray decode_timedelta will default to False rather than None. To silence this warning, set decode_timedelta to True, False, or a 'CFTimedeltaCoder' instance.\n",
      "  vars, attrs, coord_names = xr.conventions.decode_cf_variables(\n"
     ]
    },
    {
     "name": "stdout",
     "output_type": "stream",
     "text": [
      "member:  p11\n"
     ]
    },
    {
     "name": "stderr",
     "output_type": "stream",
     "text": [
      "/opt/anaconda3/envs/GEFS_plot/lib/python3.10/site-packages/cfgrib/xarray_plugin.py:131: FutureWarning: In a future version of xarray decode_timedelta will default to False rather than None. To silence this warning, set decode_timedelta to True, False, or a 'CFTimedeltaCoder' instance.\n",
      "  vars, attrs, coord_names = xr.conventions.decode_cf_variables(\n"
     ]
    },
    {
     "name": "stdout",
     "output_type": "stream",
     "text": [
      "member:  p12\n"
     ]
    },
    {
     "name": "stderr",
     "output_type": "stream",
     "text": [
      "/opt/anaconda3/envs/GEFS_plot/lib/python3.10/site-packages/cfgrib/xarray_plugin.py:131: FutureWarning: In a future version of xarray decode_timedelta will default to False rather than None. To silence this warning, set decode_timedelta to True, False, or a 'CFTimedeltaCoder' instance.\n",
      "  vars, attrs, coord_names = xr.conventions.decode_cf_variables(\n"
     ]
    },
    {
     "name": "stdout",
     "output_type": "stream",
     "text": [
      "member:  p13\n"
     ]
    },
    {
     "name": "stderr",
     "output_type": "stream",
     "text": [
      "/opt/anaconda3/envs/GEFS_plot/lib/python3.10/site-packages/cfgrib/xarray_plugin.py:131: FutureWarning: In a future version of xarray decode_timedelta will default to False rather than None. To silence this warning, set decode_timedelta to True, False, or a 'CFTimedeltaCoder' instance.\n",
      "  vars, attrs, coord_names = xr.conventions.decode_cf_variables(\n"
     ]
    },
    {
     "name": "stdout",
     "output_type": "stream",
     "text": [
      "member:  p14\n"
     ]
    },
    {
     "name": "stderr",
     "output_type": "stream",
     "text": [
      "/opt/anaconda3/envs/GEFS_plot/lib/python3.10/site-packages/cfgrib/xarray_plugin.py:131: FutureWarning: In a future version of xarray decode_timedelta will default to False rather than None. To silence this warning, set decode_timedelta to True, False, or a 'CFTimedeltaCoder' instance.\n",
      "  vars, attrs, coord_names = xr.conventions.decode_cf_variables(\n"
     ]
    },
    {
     "name": "stdout",
     "output_type": "stream",
     "text": [
      "member:  p15\n"
     ]
    },
    {
     "name": "stderr",
     "output_type": "stream",
     "text": [
      "/opt/anaconda3/envs/GEFS_plot/lib/python3.10/site-packages/cfgrib/xarray_plugin.py:131: FutureWarning: In a future version of xarray decode_timedelta will default to False rather than None. To silence this warning, set decode_timedelta to True, False, or a 'CFTimedeltaCoder' instance.\n",
      "  vars, attrs, coord_names = xr.conventions.decode_cf_variables(\n"
     ]
    },
    {
     "name": "stdout",
     "output_type": "stream",
     "text": [
      "member:  p16\n"
     ]
    },
    {
     "name": "stderr",
     "output_type": "stream",
     "text": [
      "/opt/anaconda3/envs/GEFS_plot/lib/python3.10/site-packages/cfgrib/xarray_plugin.py:131: FutureWarning: In a future version of xarray decode_timedelta will default to False rather than None. To silence this warning, set decode_timedelta to True, False, or a 'CFTimedeltaCoder' instance.\n",
      "  vars, attrs, coord_names = xr.conventions.decode_cf_variables(\n"
     ]
    },
    {
     "name": "stdout",
     "output_type": "stream",
     "text": [
      "member:  p17\n"
     ]
    },
    {
     "name": "stderr",
     "output_type": "stream",
     "text": [
      "/opt/anaconda3/envs/GEFS_plot/lib/python3.10/site-packages/cfgrib/xarray_plugin.py:131: FutureWarning: In a future version of xarray decode_timedelta will default to False rather than None. To silence this warning, set decode_timedelta to True, False, or a 'CFTimedeltaCoder' instance.\n",
      "  vars, attrs, coord_names = xr.conventions.decode_cf_variables(\n"
     ]
    },
    {
     "name": "stdout",
     "output_type": "stream",
     "text": [
      "member:  p18\n"
     ]
    },
    {
     "name": "stderr",
     "output_type": "stream",
     "text": [
      "/opt/anaconda3/envs/GEFS_plot/lib/python3.10/site-packages/cfgrib/xarray_plugin.py:131: FutureWarning: In a future version of xarray decode_timedelta will default to False rather than None. To silence this warning, set decode_timedelta to True, False, or a 'CFTimedeltaCoder' instance.\n",
      "  vars, attrs, coord_names = xr.conventions.decode_cf_variables(\n"
     ]
    },
    {
     "name": "stdout",
     "output_type": "stream",
     "text": [
      "member:  p19\n"
     ]
    },
    {
     "name": "stderr",
     "output_type": "stream",
     "text": [
      "/opt/anaconda3/envs/GEFS_plot/lib/python3.10/site-packages/cfgrib/xarray_plugin.py:131: FutureWarning: In a future version of xarray decode_timedelta will default to False rather than None. To silence this warning, set decode_timedelta to True, False, or a 'CFTimedeltaCoder' instance.\n",
      "  vars, attrs, coord_names = xr.conventions.decode_cf_variables(\n"
     ]
    },
    {
     "name": "stdout",
     "output_type": "stream",
     "text": [
      "member:  p20\n"
     ]
    },
    {
     "name": "stderr",
     "output_type": "stream",
     "text": [
      "/opt/anaconda3/envs/GEFS_plot/lib/python3.10/site-packages/cfgrib/xarray_plugin.py:131: FutureWarning: In a future version of xarray decode_timedelta will default to False rather than None. To silence this warning, set decode_timedelta to True, False, or a 'CFTimedeltaCoder' instance.\n",
      "  vars, attrs, coord_names = xr.conventions.decode_cf_variables(\n"
     ]
    },
    {
     "name": "stdout",
     "output_type": "stream",
     "text": [
      "member:  p21\n"
     ]
    },
    {
     "name": "stderr",
     "output_type": "stream",
     "text": [
      "/opt/anaconda3/envs/GEFS_plot/lib/python3.10/site-packages/cfgrib/xarray_plugin.py:131: FutureWarning: In a future version of xarray decode_timedelta will default to False rather than None. To silence this warning, set decode_timedelta to True, False, or a 'CFTimedeltaCoder' instance.\n",
      "  vars, attrs, coord_names = xr.conventions.decode_cf_variables(\n"
     ]
    },
    {
     "name": "stdout",
     "output_type": "stream",
     "text": [
      "member:  p22\n"
     ]
    },
    {
     "name": "stderr",
     "output_type": "stream",
     "text": [
      "/opt/anaconda3/envs/GEFS_plot/lib/python3.10/site-packages/cfgrib/xarray_plugin.py:131: FutureWarning: In a future version of xarray decode_timedelta will default to False rather than None. To silence this warning, set decode_timedelta to True, False, or a 'CFTimedeltaCoder' instance.\n",
      "  vars, attrs, coord_names = xr.conventions.decode_cf_variables(\n"
     ]
    },
    {
     "name": "stdout",
     "output_type": "stream",
     "text": [
      "member:  p23\n"
     ]
    },
    {
     "name": "stderr",
     "output_type": "stream",
     "text": [
      "/opt/anaconda3/envs/GEFS_plot/lib/python3.10/site-packages/cfgrib/xarray_plugin.py:131: FutureWarning: In a future version of xarray decode_timedelta will default to False rather than None. To silence this warning, set decode_timedelta to True, False, or a 'CFTimedeltaCoder' instance.\n",
      "  vars, attrs, coord_names = xr.conventions.decode_cf_variables(\n"
     ]
    },
    {
     "name": "stdout",
     "output_type": "stream",
     "text": [
      "member:  p24\n"
     ]
    },
    {
     "name": "stderr",
     "output_type": "stream",
     "text": [
      "/opt/anaconda3/envs/GEFS_plot/lib/python3.10/site-packages/cfgrib/xarray_plugin.py:131: FutureWarning: In a future version of xarray decode_timedelta will default to False rather than None. To silence this warning, set decode_timedelta to True, False, or a 'CFTimedeltaCoder' instance.\n",
      "  vars, attrs, coord_names = xr.conventions.decode_cf_variables(\n"
     ]
    },
    {
     "name": "stdout",
     "output_type": "stream",
     "text": [
      "member:  p25\n"
     ]
    },
    {
     "name": "stderr",
     "output_type": "stream",
     "text": [
      "/opt/anaconda3/envs/GEFS_plot/lib/python3.10/site-packages/cfgrib/xarray_plugin.py:131: FutureWarning: In a future version of xarray decode_timedelta will default to False rather than None. To silence this warning, set decode_timedelta to True, False, or a 'CFTimedeltaCoder' instance.\n",
      "  vars, attrs, coord_names = xr.conventions.decode_cf_variables(\n"
     ]
    },
    {
     "name": "stdout",
     "output_type": "stream",
     "text": [
      "member:  p26\n"
     ]
    },
    {
     "name": "stderr",
     "output_type": "stream",
     "text": [
      "/opt/anaconda3/envs/GEFS_plot/lib/python3.10/site-packages/cfgrib/xarray_plugin.py:131: FutureWarning: In a future version of xarray decode_timedelta will default to False rather than None. To silence this warning, set decode_timedelta to True, False, or a 'CFTimedeltaCoder' instance.\n",
      "  vars, attrs, coord_names = xr.conventions.decode_cf_variables(\n"
     ]
    },
    {
     "name": "stdout",
     "output_type": "stream",
     "text": [
      "member:  p27\n"
     ]
    },
    {
     "name": "stderr",
     "output_type": "stream",
     "text": [
      "/opt/anaconda3/envs/GEFS_plot/lib/python3.10/site-packages/cfgrib/xarray_plugin.py:131: FutureWarning: In a future version of xarray decode_timedelta will default to False rather than None. To silence this warning, set decode_timedelta to True, False, or a 'CFTimedeltaCoder' instance.\n",
      "  vars, attrs, coord_names = xr.conventions.decode_cf_variables(\n"
     ]
    },
    {
     "name": "stdout",
     "output_type": "stream",
     "text": [
      "member:  p28\n"
     ]
    },
    {
     "name": "stderr",
     "output_type": "stream",
     "text": [
      "/opt/anaconda3/envs/GEFS_plot/lib/python3.10/site-packages/cfgrib/xarray_plugin.py:131: FutureWarning: In a future version of xarray decode_timedelta will default to False rather than None. To silence this warning, set decode_timedelta to True, False, or a 'CFTimedeltaCoder' instance.\n",
      "  vars, attrs, coord_names = xr.conventions.decode_cf_variables(\n"
     ]
    },
    {
     "name": "stdout",
     "output_type": "stream",
     "text": [
      "member:  p29\n"
     ]
    },
    {
     "name": "stderr",
     "output_type": "stream",
     "text": [
      "/opt/anaconda3/envs/GEFS_plot/lib/python3.10/site-packages/cfgrib/xarray_plugin.py:131: FutureWarning: In a future version of xarray decode_timedelta will default to False rather than None. To silence this warning, set decode_timedelta to True, False, or a 'CFTimedeltaCoder' instance.\n",
      "  vars, attrs, coord_names = xr.conventions.decode_cf_variables(\n"
     ]
    },
    {
     "name": "stdout",
     "output_type": "stream",
     "text": [
      "member:  p30\n"
     ]
    },
    {
     "name": "stderr",
     "output_type": "stream",
     "text": [
      "/opt/anaconda3/envs/GEFS_plot/lib/python3.10/site-packages/cfgrib/xarray_plugin.py:131: FutureWarning: In a future version of xarray decode_timedelta will default to False rather than None. To silence this warning, set decode_timedelta to True, False, or a 'CFTimedeltaCoder' instance.\n",
      "  vars, attrs, coord_names = xr.conventions.decode_cf_variables(\n"
     ]
    },
    {
     "name": "stdout",
     "output_type": "stream",
     "text": [
      "member:  c00\n"
     ]
    },
    {
     "name": "stderr",
     "output_type": "stream",
     "text": [
      "/opt/anaconda3/envs/GEFS_plot/lib/python3.10/site-packages/cfgrib/xarray_plugin.py:131: FutureWarning: In a future version of xarray decode_timedelta will default to False rather than None. To silence this warning, set decode_timedelta to True, False, or a 'CFTimedeltaCoder' instance.\n",
      "  vars, attrs, coord_names = xr.conventions.decode_cf_variables(\n"
     ]
    }
   ],
   "source": [
    "# ------------------------ Helper Functions -----------------------\n",
    "\n",
    "def kelvin_to_fahrenheit(temps):\n",
    "    \"\"\"\n",
    "    Convert temperatures from Kelvin to Fahrenheit.\n",
    "    \"\"\"\n",
    "    return (temps - 273.15) * 9/5 + 32\n",
    "\n",
    "# Helper function to get temperature for each member\n",
    "def get_member_temperature(member):\n",
    "    \"\"\"\n",
    "    Retrieve temperature for a given member from Herbie.\n",
    "    \"\"\"\n",
    "    H = Herbie(RUN_TIME, model=\"gefs\", product=\"atmos.5\", member=member,\n",
    "               fxx=FORECAST_HOUR, verbose=False)\n",
    "    try:\n",
    "        tmp_2m_ds = H.xarray(\"TMP:2 m\")\n",
    "        lon = LON_STN % 360 if tmp_2m_ds.longitude.max() > 180 else LON_STN\n",
    "        temp_var = list(tmp_2m_ds.data_vars)[0]\n",
    "        temp = tmp_2m_ds[temp_var].sel(latitude=LAT_STN, longitude=lon, method=\"nearest\")\n",
    "        return temp\n",
    "    except Exception as e:\n",
    "        print(f\"{member} failed: {e}\")\n",
    "        return None\n",
    "\n",
    "# Retrieve temperatures for all members (and valid time)\n",
    "temps = []\n",
    "valid_time = None  # Initialize valid_time\n",
    "for member in MEMBERS:\n",
    "    print('member: ', member)\n",
    "    temp = get_member_temperature(member)\n",
    "    if temp is not None:\n",
    "        temps.append(temp.values.item())\n",
    "        if valid_time is None:  # Get valid time from the first successful fetch\n",
    "            valid_time = temp.valid_time.dt.strftime('%H:%M UTC %d %b %Y').item()\n",
    "\n",
    "temps = np.array(temps)  # Convert to numpy array\n",
    "\n",
    "# Convert to Fahrenheit\n",
    "temps_f = kelvin_to_fahrenheit(temps)"
   ]
  },
  {
   "cell_type": "markdown",
   "id": "8b4dbeb0-3700-4b2c-b8cf-1f6d38bc8a18",
   "metadata": {},
   "source": [
    "### Calculate Percentages"
   ]
  },
  {
   "cell_type": "code",
   "execution_count": 8,
   "id": "e294bbf9-78b2-4ca9-b59c-d1d8df65dfed",
   "metadata": {},
   "outputs": [],
   "source": [
    "# Calculate the percentage of members within each range\n",
    "def calculate_percentages(temps_f):\n",
    "    \"\"\"\n",
    "    Calculate the percentage of members in each temperature range.\n",
    "    \"\"\"\n",
    "    percentages = {}\n",
    "    for (lower, upper), label in zip(TEMP_RANGES, RANGE_LABELS):\n",
    "        in_range = ((temps_f >= lower) & (temps_f < upper)).sum()\n",
    "        percentage = 100 * in_range / temps_f.size\n",
    "        percentages[label] = round(percentage)\n",
    "    return percentages\n",
    "\n",
    "percentages = calculate_percentages(temps_f)\n",
    "\n",
    "# Create a DataFrame for graphical representation\n",
    "df = pd.DataFrame(list(percentages.items()), columns=[\"Temperature Range\", \"Percentage of GEFS Members\"])"
   ]
  },
  {
   "cell_type": "markdown",
   "id": "c917b179-ec58-4d82-937d-a18807b3ad42",
   "metadata": {},
   "source": [
    "### Plot the Table"
   ]
  },
  {
   "cell_type": "code",
   "execution_count": 9,
   "id": "dbf02441-d4a1-4345-807f-3bec4478d2be",
   "metadata": {},
   "outputs": [
    {
     "data": {
      "image/png": "[encoded data removed]",
      "text/plain": [
       "<Figure size 1000x500 with 1 Axes>"
      ]
     },
     "metadata": {},
     "output_type": "display_data"
    }
   ],
   "source": [
    "# Define colormap and normalization for background color\n",
    "bg_cmap = plt.get_cmap(\"Greys\")\n",
    "norm_bg = mcolors.Normalize(vmin=0, vmax=130)\n",
    "\n",
    "# Text color definitions for the table\n",
    "text_colors = [\n",
    "    (119/255, 107/255, 176/255), (26/255, 7/255, 124/255),\n",
    "    (32/255, 109/255, 175/255), (132/255, 187/255, 219/255),\n",
    "    (225/255, 211/255, 151/255), (223/255, 166/255, 117/255),\n",
    "    (206/255, 97/255, 95/255), (177/255, 82/255, 103/255)\n",
    "]\n",
    "\n",
    "# Plot the table\n",
    "def plot_table(df, valid_time):\n",
    "    \"\"\"\n",
    "    Create a table plot for the percentage data.\n",
    "    \"\"\"\n",
    "\n",
    "    # Create the title with the valid time\n",
    "    title = f\"New York City, NY (KNYC) Temperatures\\nValid: {valid_time}\"\n",
    "\n",
    "    fig, ax = plt.subplots(figsize=(10, 5))\n",
    "    ax.axis(\"tight\")\n",
    "    ax.axis(\"off\")\n",
    "    \n",
    "    table = ax.table(cellText=df.values, colLabels=df.columns, loc=\"center\", cellLoc=\"center\", colColours=[\"#f1f1f1\"] * 2)\n",
    "    table.auto_set_font_size(False)\n",
    "    table.set_fontsize(12)\n",
    "    table.scale(1.2, 1.2)\n",
    "\n",
    "    for (i, j), cell in table.get_celld().items():\n",
    "        if j == 1 and i != 0:\n",
    "            value = df.iloc[i - 1, 1]\n",
    "            bg_color = bg_cmap(norm_bg(value))\n",
    "            cell.set_facecolor(bg_color)\n",
    "        if j == 0 and i != 0:\n",
    "            row_index = i - 1\n",
    "            cell.set_text_props(color=text_colors[row_index])\n",
    "\n",
    "    # Set the title for the table with the formatted valid time\n",
    "    ax.set_title(title, fontsize=14)\n",
    "\n",
    "    # Add definitions link at the bottom\n",
    "    plt.figtext(0.25, 0.05, 'Definitions can be found at: ', ha='left', va='center', fontsize=10, color='black')\n",
    "    plt.figtext(0.45, 0.05, 'https://www.weather.gov/okx/wwa_definitions', ha='left', va='center', fontsize=10, color='blue', style='italic')\n",
    "    \n",
    "    plt.show()\n",
    "\n",
    "# Call the plot_table function with the valid_time\n",
    "plot_table(df, valid_time)"
   ]
  }
 ],
 "metadata": {
  "kernelspec": {
   "display_name": "Python (GEFS_plot)",
   "language": "python",
   "name": "gefs_plot"
  },
  "language_info": {
   "codemirror_mode": {
    "name": "ipython",
    "version": 3
   },
   "file_extension": ".py",
   "mimetype": "text/x-python",
   "name": "python",
   "nbconvert_exporter": "python",
   "pygments_lexer": "ipython3",
   "version": "3.10.16"
  }
 },
 "nbformat": 4,
 "nbformat_minor": 5
}
